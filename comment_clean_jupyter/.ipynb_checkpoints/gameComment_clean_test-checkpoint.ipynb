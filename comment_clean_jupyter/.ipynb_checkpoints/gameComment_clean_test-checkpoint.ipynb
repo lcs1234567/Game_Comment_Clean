{
 "cells": [
  {
   "cell_type": "code",
   "execution_count": 4,
   "metadata": {
    "scrolled": true
   },
   "outputs": [
    {
     "name": "stdout",
     "output_type": "stream",
     "text": [
      "{'‧', '”', '＄', '>', '》', '—', '｜', '-', '】', '`', '／', '&', '）', '‟', ')', '}', '＂', '＾', '｟', '［', '｀', '〕', '–', '＆', '〗', '\\u3000', '%', '!', '#', '』', ',', '。', '〙', '〔', '‘', '＝', '《', '〿', '“', '^', '【', '〾', '.', '〜', '=', '『', '<', '＊', '’', '〃', '·', '$', '〛', '〝', '〞', '〰', '＜', '〟', '＃', '；', '：', '_', '｡', '/', ';', '？', '(', '＋', '\"', '〚', '‛', '*', '｢', '（', '@', '！', '｛', '…', '﹑', '\\\\', '｠', ']', '＇', '{', '＿', '〖', '～', '+', '］', '?', '﹔', '｣', '〘', '＞', '｝', '〈', ':', '﹏', '＼', '、', '＠', '~', '％', '－', '„', '〉', '「', '[', '」', '|', '，', \"'\", '､'}\n"
     ]
    }
   ],
   "source": [
    "from zhon import hanzi\n",
    "import string\n",
    "punctuation=hanzi.punctuation + string.punctuation\n",
    "punctuation = set([i for i in punctuation])\n",
    "print(punctuation)"
   ]
  },
  {
   "cell_type": "code",
   "execution_count": 6,
   "metadata": {},
   "outputs": [
    {
     "name": "stdout",
     "output_type": "stream",
     "text": [
      "理论测试打dfd的空间看电视发链接\n"
     ]
    }
   ],
   "source": [
    "import re\n",
    "x = \"理论测试，，打dfd的    空间，，，，，，看电视发链接，，，!!!!\"\n",
    "x = \"\".join([i for i in x if i not in punctuation]) # 遍历评论\n",
    "print(re.sub(r'\\s+', ' ', x))"
   ]
  },
  {
   "cell_type": "code",
   "execution_count": null,
   "metadata": {},
   "outputs": [],
   "source": []
  }
 ],
 "metadata": {
  "kernelspec": {
   "display_name": "Python 3",
   "language": "python",
   "name": "python3"
  },
  "language_info": {
   "codemirror_mode": {
    "name": "ipython",
    "version": 3
   },
   "file_extension": ".py",
   "mimetype": "text/x-python",
   "name": "python",
   "nbconvert_exporter": "python",
   "pygments_lexer": "ipython3",
   "version": "3.6.4"
  }
 },
 "nbformat": 4,
 "nbformat_minor": 2
}
